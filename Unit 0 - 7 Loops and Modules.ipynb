{
 "cells": [
  {
   "cell_type": "markdown",
   "metadata": {},
   "source": [
    "# **Loops and Modules**\n",
    "\n",
    "![Hello!](https://i.imgur.com/xgz9nkR.gif)"
   ]
  },
  {
   "cell_type": "markdown",
   "metadata": {},
   "source": [
    "# Skills\n",
    "* use `for` and `while` loops like a boss\n",
    "* loop by numbers other than one\n",
    "* use modules like `random`\n",
    "* know where to find MORE modules and libraries"
   ]
  },
  {
   "cell_type": "markdown",
   "metadata": {},
   "source": [
    "---\n",
    "# Loops\n",
    "![From programarcadegames.com](http://programarcadegames.com/chapters/04_loops/game_loop.png)"
   ]
  },
  {
   "cell_type": "markdown",
   "metadata": {},
   "source": [
    "## **`for` loops**\n",
    "`for` loops are constructs that we can use to repeat code.\n",
    "\n",
    "For example, let's print something out multiple times."
   ]
  },
  {
   "cell_type": "code",
   "execution_count": null,
   "metadata": {
    "tags": []
   },
   "outputs": [],
   "source": [
    "# print five times\n",
    "for i in range(5):\n",
    "    print(f\"{i}. Mr. Ubial is sooo cool\")"
   ]
  },
  {
   "cell_type": "code",
   "execution_count": null,
   "metadata": {
    "tags": []
   },
   "outputs": [],
   "source": [
    "for i in range(5):\n",
    "    print(i)\n",
    "    print(\"------\")\n",
    "    \n",
    "    \n",
    "\n"
   ]
  },
  {
   "cell_type": "code",
   "execution_count": null,
   "metadata": {
    "tags": []
   },
   "outputs": [],
   "source": [
    "# print the numbers from 1 to 10\n",
    "for i in range(10):\n",
    "    print(i+1)"
   ]
  },
  {
   "cell_type": "code",
   "execution_count": null,
   "metadata": {
    "tags": []
   },
   "outputs": [],
   "source": [
    "# print numbers from 1 to 10, v2\n",
    "# range()\n",
    "# range (<start>,, <stop>, <>)\n",
    "for i in range(1, 11):\n",
    "    print(i)"
   ]
  },
  {
   "cell_type": "markdown",
   "metadata": {},
   "source": [
    "### Counting by numbers other than one\n",
    "There are ways we can use `range` to count by numbers other than one."
   ]
  },
  {
   "cell_type": "code",
   "execution_count": null,
   "metadata": {
    "tags": []
   },
   "outputs": [],
   "source": [
    "# count even numbers 2 to 10\n",
    "for i in range(2, 11 ,2):\n",
    "    print(i)"
   ]
  },
  {
   "cell_type": "code",
   "execution_count": null,
   "metadata": {
    "tags": []
   },
   "outputs": [],
   "source": [
    "# count even numbers 2 to 10, v2\n"
   ]
  },
  {
   "cell_type": "code",
   "execution_count": null,
   "metadata": {
    "tags": []
   },
   "outputs": [],
   "source": [
    "# count backwards from 10 to 1\n",
    "\n",
    "for i in range(10, 0, -1):\n",
    "    print(i)"
   ]
  },
  {
   "cell_type": "code",
   "execution_count": null,
   "metadata": {},
   "outputs": [],
   "source": [
    "list(range(10))"
   ]
  },
  {
   "cell_type": "markdown",
   "metadata": {},
   "source": [
    "# **Lists and Loops**"
   ]
  },
  {
   "cell_type": "markdown",
   "metadata": {
    "tags": []
   },
   "source": [
    "## Lists\n",
    "\n",
    "Lists are a type of **data**\n",
    "T\n",
    "\n",
    "* They are an ordered set of values\n",
    "* use `[]` tp create pir ;ost\n",
    "* use `,` to separate individual elements"
   ]
  },
  {
   "cell_type": "code",
   "execution_count": null,
   "metadata": {
    "tags": []
   },
   "outputs": [],
   "source": [
    "# conventions\n",
    "# name your lists as a PLURAL name\n",
    "\n",
    "\n",
    "# calculate the average percventage\n",
    "percentages = [60, 34, 86, 93, 51]\n",
    "\n",
    "\n",
    "total = 0  # initialiing a variable\n",
    "\n",
    "\n",
    "# for <elemt> in <list>:\n",
    "for percentage in percentages: \n",
    "    # total = total + percentage\n",
    "    total += percentage\n",
    "\n",
    "print(f\"The average is {total / len(percentages)}%\")"
   ]
  },
  {
   "cell_type": "code",
   "execution_count": null,
   "metadata": {
    "tags": []
   },
   "outputs": [],
   "source": [
    "questions = [\n",
    "    \"What is the best food? \",\n",
    "    \"What's your favourite season? \",\n",
    "    \"What is the meaning of life? \",\n",
    "    \n",
    "for question in questions:\n",
    "    print(guestion)\n",
    "    input()\n",
    "    print (\"Ooh I see\")\n",
    "    "
   ]
  },
  {
   "cell_type": "markdown",
   "metadata": {},
   "source": [
    "## Concatenation and Multiplication"
   ]
  },
  {
   "cell_type": "markdown",
   "metadata": {},
   "source": [
    "### Application of `for` Loops\n",
    "We want to add up all the numbers from 1 to 100."
   ]
  },
  {
   "cell_type": "code",
   "execution_count": 1,
   "metadata": {
    "tags": []
   },
   "outputs": [],
   "source": [
    "# loop all numbers from 1 to 100\n",
    "# take each number and add to a total\n",
    "# print the total at the end\n",
    "\n",
    "\n",
    "\n",
    "total = 0\n",
    "\n",
    "for i in range (1, 101):\n",
    "    total += i\n",
    "    \n",
    "print (total)"
   ]
  },
  {
   "cell_type": "code",
   "execution_count": 2,
   "metadata": {
    "tags": []
   },
   "outputs": [],
   "source": [
    "sum(list(range(1,101)))"
   ]
  },
  {
   "cell_type": "markdown",
   "metadata": {},
   "source": [
    "## **List Comprehension**"
   ]
  },
  {
   "cell_type": "code",
   "execution_count": null,
   "metadata": {},
   "outputs": [],
   "source": []
  },
  {
   "cell_type": "markdown",
   "metadata": {},
   "source": [
    "---\n",
    "## **`while` loops**\n",
    "`while` loops are used when you don't know how many times you want to loop."
   ]
  },
  {
   "cell_type": "code",
   "execution_count": null,
   "metadata": {
    "tags": []
   },
   "outputs": [],
   "source": [
    "while True:\n",
    "    print(\"Hi\")"
   ]
  },
  {
   "cell_type": "code",
   "execution_count": 8,
   "metadata": {},
   "outputs": [
    {
     "name": "stdin",
     "output_type": "stream",
     "text": [
      "Do you want to quit? (y/n) werf\n",
      "Do you want to quit? (y/n) wef\n",
      "Do you want to quit? (y/n) wf\n",
      "Do you want to quit? (y/n) df\n",
      "Do you want to quit? (y/n) fd\n",
      "Do you want to quit? (y/n) ef\n",
      "Do you want to quit? (y/n) y\n"
     ]
    },
    {
     "name": "stdout",
     "output_type": "stream",
     "text": [
      "Thanks! I'm Free!\n"
     ]
    }
   ],
   "source": [
    "done = False\n",
    "\n",
    "while not done:\n",
    "    response = input(\"Do you want to quit? (y/n)\")\n",
    "    \n",
    "    if response.lower().strip(\",.?!\") in {\"y\", \"yes\"}:\n",
    "        done = True\n",
    "print(\"Thanks! I'm Free!\")\n",
    "    "
   ]
  },
  {
   "cell_type": "markdown",
   "metadata": {},
   "source": [
    "### `random` module and modules in general\n",
    "**Modules** are tools that others have created to make our lives easier.\n",
    "\n",
    "For example, `random` includes a library of tools that have to do with randomness."
   ]
  },
  {
   "cell_type": "code",
   "execution_count": 14,
   "metadata": {
    "tags": []
   },
   "outputs": [
    {
     "name": "stdout",
     "output_type": "stream",
     "text": [
      "Tails\n"
     ]
    }
   ],
   "source": [
    "import random\n",
    "\n",
    "# implement a coin flip\n",
    "\n",
    "#random.random() --> [0.0, 1.0)\n",
    "if random.random() < 0.5:\n",
    "    print (\"Heads\")\n",
    "else:\n",
    "    print(\"Tails\")"
   ]
  },
  {
   "cell_type": "code",
   "execution_count": 15,
   "metadata": {
    "tags": []
   },
   "outputs": [
    {
     "data": {
      "text/plain": [
       "0.011063306673198658"
      ]
     },
     "execution_count": 15,
     "metadata": {},
     "output_type": "execute_result"
    }
   ],
   "source": [
    "# 0 and 1\n",
    "random.random()\n",
    "\n",
    "# 1, 100 floats\n"
   ]
  },
  {
   "cell_type": "code",
   "execution_count": null,
   "metadata": {},
   "outputs": [],
   "source": [
    "# generates a float between\n",
    "# 0 and 1\n"
   ]
  },
  {
   "cell_type": "markdown",
   "metadata": {},
   "source": [
    "---\n",
    "## **Exercise**\n",
    "\n",
    "For each of these problems, create a new Python file.  \n",
    "Be sure to name the file correctly."
   ]
  },
  {
   "cell_type": "markdown",
   "metadata": {},
   "source": [
    "### 1. Number Pyramid\n",
    "`lastname_initial_01pyramid.py`\n",
    "\n",
    "Write a Python program that will print the following:\n",
    "\n",
    "`  \n",
    "10  \n",
    "11 12  \n",
    "13 14 15  \n",
    "16 17 18 19  \n",
    "20 21 22 23 24  \n",
    "25 26 27 28 29 30  \n",
    "31 32 33 34 35 36 37  \n",
    "38 39 40 41 42 43 44 45  \n",
    "46 47 48 49 50 51 52 53 54`"
   ]
  },
  {
   "cell_type": "markdown",
   "metadata": {},
   "source": [
    "## 2. Big Box\n",
    "Filename: `lastname_initial_02bigbox.py`\n",
    "\n",
    "Create a box out of n rows of letter o's for any size n. Get the n value using the `input()` from the user. (Remember to cast that as an `int`).\n",
    "\n",
    "`E.g. n = 3\n",
    "oooooo\n",
    "o    o\n",
    "oooooo`\n",
    " \n",
    "`E.g. n = 8\n",
    "oooooooooooooooo\n",
    "o              o\n",
    "o              o\n",
    "o              o\n",
    "o              o\n",
    "o              o\n",
    "o              o\n",
    "oooooooooooooooo`\n",
    "\n",
    "Hint: break the problem up into parts\n",
    "* Trying building the top of the box, then the bottom\n",
    "* Then once you've done that, create the sides"
   ]
  }
 ],
 "metadata": {
  "kernelspec": {
   "display_name": "Python 3 (ipykernel)",
   "language": "python",
   "name": "python3"
  },
  "language_info": {
   "codemirror_mode": {
    "name": "ipython",
    "version": 3
   },
   "file_extension": ".py",
   "mimetype": "text/x-python",
   "name": "python",
   "nbconvert_exporter": "python",
   "pygments_lexer": "ipython3",
   "version": "3.8.9"
  }
 },
 "nbformat": 4,
 "nbformat_minor": 4
}
